{
  "nbformat": 4,
  "nbformat_minor": 0,
  "metadata": {
    "colab": {
      "name": "mcnemar.ipynb",
      "provenance": [],
      "authorship_tag": "ABX9TyPXs8X39jpOvmQGCV/ZlSjs",
      "include_colab_link": true
    },
    "kernelspec": {
      "name": "python3",
      "display_name": "Python 3"
    },
    "language_info": {
      "name": "python"
    }
  },
  "cells": [
    {
      "cell_type": "markdown",
      "metadata": {
        "id": "view-in-github",
        "colab_type": "text"
      },
      "source": [
        "<a href=\"https://colab.research.google.com/github/WesleySantosMaxtelll/doutorado/blob/main/mcnemar.ipynb\" target=\"_parent\"><img src=\"https://colab.research.google.com/assets/colab-badge.svg\" alt=\"Open In Colab\"/></a>"
      ]
    },
    {
      "cell_type": "code",
      "execution_count": null,
      "metadata": {
        "id": "p3GFUIh8RQ87",
        "colab": {
          "base_uri": "https://localhost:8080/"
        },
        "outputId": "6ad3cfb3-deaf-48cb-81b3-5a6016340ddb"
      },
      "outputs": [
        {
          "output_type": "stream",
          "name": "stderr",
          "text": [
            "/usr/local/lib/python3.7/dist-packages/statsmodels/tools/_testing.py:19: FutureWarning: pandas.util.testing is deprecated. Use the functions in the public API at pandas.testing instead.\n",
            "  import pandas.util.testing as tm\n"
          ]
        }
      ],
      "source": [
        "from statsmodels.stats.contingency_tables import mcnemar\n",
        "import pandas as pd\n",
        "import pickle\n",
        "import os\n",
        "from sklearn.metrics import classification_report, matthews_corrcoef, roc_auc_score\n",
        "from collections import Counter\n",
        "import numpy as np"
      ]
    },
    {
      "cell_type": "code",
      "source": [
        "from google.colab import drive\n",
        "drive.mount('/content/drive')"
      ],
      "metadata": {
        "colab": {
          "base_uri": "https://localhost:8080/"
        },
        "id": "KACYgC_cRcsy",
        "outputId": "debee74b-bec9-4708-fa54-b4deca9fa006"
      },
      "execution_count": null,
      "outputs": [
        {
          "output_type": "stream",
          "name": "stdout",
          "text": [
            "Mounted at /content/drive\n"
          ]
        }
      ]
    },
    {
      "cell_type": "code",
      "source": [
        "# -*- coding: utf-8 -*-\n",
        "import pandas as pd\n",
        "from statsmodels.stats.contingency_tables import mcnemar\n",
        "\n",
        "def main_mcnemar(c1, c2):\n",
        "    df = pd.concat([c1,c2],axis=1) # lado\n",
        "    df.columns = ['c1','c2']\n",
        "\n",
        "    df['right_right'] = df.apply(lambda x: int(x.c1==1 and x.c2==1),axis=1)\n",
        "    df['right_wrong'] = df.apply(lambda x: int(x.c1==1 and x.c2==0),axis=1)\n",
        "    df['wrong_right'] = df.apply(lambda x: int(x.c1==0 and x.c2==1),axis=1)\n",
        "    df['wrong_wrong'] = df.apply(lambda x: int(x.c1==0 and x.c2==0),axis=1)\n",
        "\n",
        "    cell_11 = df.right_right.sum()\n",
        "    cell_12 = df.right_wrong.sum()\n",
        "    cell_21 = df.wrong_right.sum()\n",
        "    cell_22 = df.wrong_wrong.sum()\n",
        "    \n",
        "    table = [\n",
        "             [cell_11, cell_12],\n",
        "             [cell_21, cell_22] \n",
        "            ]\n",
        "                \n",
        "    if cell_11<25 or cell_12<25 or cell_21<25 or cell_22<25:\n",
        "        result = mcnemar(table, exact=True)\n",
        "    else:\n",
        "        result = mcnemar(table, exact=False, correction=True)   \n",
        "\n",
        "    # print('\\n'+corpus+\"_\"+classifier1+\"_\"+classifier2+ ' : ',end='')\n",
        "    print('stat=%.3f, p=%.7f' % (result.statistic, result.pvalue),end='')\n",
        "\n",
        "    significant = False\n",
        "    for alpha in [0.001, 0.01, 0.05]:\n",
        "        if result.pvalue < alpha:\n",
        "            print(' p<' + str(alpha))\n",
        "            significant = True\n",
        "            break\n",
        "    if not significant:\n",
        "        print(' not significant')\n"
      ],
      "metadata": {
        "id": "qtgIthZjm0g_"
      },
      "execution_count": null,
      "outputs": []
    },
    {
      "cell_type": "code",
      "source": [
        "df1 = pickle.load(open(f'/content/drive/MyDrive/doutorado/dados_v6/pre_pos/prediction/D_pre.pkl', 'rb'))\n",
        "df2 = pickle.load(open(f'/content/drive/MyDrive/doutorado/dados_v6/pre_pos/prediction/D_pos.pkl', 'rb'))"
      ],
      "metadata": {
        "id": "bEG5rzBM8L7x"
      },
      "execution_count": null,
      "outputs": []
    },
    {
      "cell_type": "code",
      "source": [
        "df1 = pickle.load(open(f'/content/drive/MyDrive/doutorado/dados_v6/full/prediction/ens-concat_all_anxiety.pkl', 'rb'))\n",
        "df2 = pickle.load(open(f'/content/drive/MyDrive/doutorado/dados_v6/full/prediction/moe_all_anxiety.pkl', 'rb'))"
      ],
      "metadata": {
        "id": "j3uCzOvy-Tls"
      },
      "execution_count": null,
      "outputs": []
    },
    {
      "cell_type": "code",
      "source": [
        "df1 = pickle.load(open(f'/content/drive/MyDrive/doutorado/dados_v6/full/prediction/ens-concat_all_depression.pkl', 'rb'))\n",
        "df2 = pickle.load(open(f'/content/drive/MyDrive/doutorado/dados_v6/full/prediction/moe_all_depression.pkl', 'rb'))"
      ],
      "metadata": {
        "id": "IHXMsMkNPBHG"
      },
      "execution_count": null,
      "outputs": []
    },
    {
      "cell_type": "code",
      "source": [
        "df1 = pickle.load(open(f'/content/drive/MyDrive/doutorado/dados_v6/full/prediction/lstm_treatment_anxiety.pkl', 'rb'))\n",
        "df2 = pickle.load(open(f'/content/drive/MyDrive/doutorado/dados_v6/full/prediction/lstm_diagnosis_anxiety.pkl', 'rb'))"
      ],
      "metadata": {
        "id": "_ixgiwLeXNXb"
      },
      "execution_count": null,
      "outputs": []
    },
    {
      "cell_type": "code",
      "source": [
        "df1 = pickle.load(open(f'/content/drive/MyDrive/doutorado/dados_v6/full/prediction/all_anxiety.pkl', 'rb'))\n",
        "df2 = pickle.load(open(f'/content/drive/MyDrive/doutorado/dados_v6/rl/anxiety-rl-tfidf.pkl', 'rb'))"
      ],
      "metadata": {
        "id": "FgIhspPh_a0o"
      },
      "execution_count": null,
      "outputs": []
    },
    {
      "cell_type": "code",
      "source": [
        "df1 = pickle.load(open(f'/content/drive/MyDrive/doutorado/dados_v6/full/prediction/all_anxiety.pkl', 'rb'))\n",
        "df2 = pickle.load(open(f'/content/drive/MyDrive/doutorado/dados_v6/rl/anxiety-rl-tfidf.pkl', 'rb'))"
      ],
      "metadata": {
        "colab": {
          "base_uri": "https://localhost:8080/"
        },
        "id": "XaWRCYpg-hHC",
        "outputId": "123f3533-b5e0-4b66-da71-cebb46fd7e4e"
      },
      "execution_count": null,
      "outputs": [
        {
          "output_type": "execute_result",
          "data": {
            "text/plain": [
              "{'pred': array([0, 1, 0, ..., 0, 1, 1]),\n",
              " 'true': array([0, 0, 0, ..., 1, 1, 1])}"
            ]
          },
          "metadata": {},
          "execution_count": 81
        }
      ]
    },
    {
      "cell_type": "code",
      "source": [
        "df1 = pd.read_csv(f'DEM_test_prediction_semeval_A.csv')\n",
        "df2 = pd.read_csv(f'test_prediction_semeval_2016.csv')"
      ],
      "metadata": {
        "id": "FF7jJB5dnbAd"
      },
      "execution_count": null,
      "outputs": []
    },
    {
      "cell_type": "code",
      "source": [
        "def clean_df(df):\n",
        "    df = df[df['real']!=2]\n",
        "    def conv(x):\n",
        "        if x['pred'] == 2:\n",
        "            if x['real'] == 1:\n",
        "                return 0\n",
        "            else:\n",
        "                return 1\n",
        "        return x['pred']\n",
        "    df['pred'] = df.apply(lambda x: conv(x), axis=1)\n",
        "    return df"
      ],
      "metadata": {
        "id": "KN-U9X1hTcl6"
      },
      "execution_count": null,
      "outputs": []
    },
    {
      "cell_type": "code",
      "source": [
        "df1 = clean_df(df1)\n",
        "df2 = clean_df(df2)"
      ],
      "metadata": {
        "colab": {
          "base_uri": "https://localhost:8080/"
        },
        "id": "4SHXrx_1T8fQ",
        "outputId": "a66f8cb4-a10a-4d9d-a35c-289da6f5a910"
      },
      "execution_count": null,
      "outputs": [
        {
          "output_type": "stream",
          "name": "stderr",
          "text": [
            "/usr/local/lib/python3.7/dist-packages/ipykernel_launcher.py:10: SettingWithCopyWarning: \n",
            "A value is trying to be set on a copy of a slice from a DataFrame.\n",
            "Try using .loc[row_indexer,col_indexer] = value instead\n",
            "\n",
            "See the caveats in the documentation: https://pandas.pydata.org/pandas-docs/stable/user_guide/indexing.html#returning-a-view-versus-a-copy\n",
            "  # Remove the CWD from sys.path while we load stuff.\n"
          ]
        }
      ]
    },
    {
      "cell_type": "code",
      "source": [
        "print(classification_report(df1['real'], df1['pred']))\n",
        "print(classification_report(df2['real'],df2['pred']))"
      ],
      "metadata": {
        "colab": {
          "base_uri": "https://localhost:8080/"
        },
        "id": "72_v0_WUTB7e",
        "outputId": "3977a962-0911-4dcf-8b79-4c389005f4d8"
      },
      "execution_count": null,
      "outputs": [
        {
          "output_type": "stream",
          "name": "stdout",
          "text": [
            "              precision    recall  f1-score   support\n",
            "\n",
            "           0       0.92      0.85      0.89      1547\n",
            "           1       0.32      0.48      0.39       221\n",
            "\n",
            "    accuracy                           0.81      1768\n",
            "   macro avg       0.62      0.67      0.64      1768\n",
            "weighted avg       0.85      0.81      0.82      1768\n",
            "\n",
            "              precision    recall  f1-score   support\n",
            "\n",
            "           0       0.91      0.92      0.91      1547\n",
            "           1       0.40      0.38      0.39       221\n",
            "\n",
            "    accuracy                           0.85      1768\n",
            "   macro avg       0.65      0.65      0.65      1768\n",
            "weighted avg       0.85      0.85      0.85      1768\n",
            "\n"
          ]
        }
      ]
    },
    {
      "cell_type": "code",
      "source": [
        "len(df2)"
      ],
      "metadata": {
        "colab": {
          "base_uri": "https://localhost:8080/"
        },
        "id": "6LeEtUXvUhum",
        "outputId": "8ab83752-17c5-47c8-dcfc-5c326daaa446"
      },
      "execution_count": null,
      "outputs": [
        {
          "output_type": "execute_result",
          "data": {
            "text/plain": [
              "1019"
            ]
          },
          "metadata": {},
          "execution_count": 17
        }
      ]
    },
    {
      "cell_type": "code",
      "source": [
        "print(classification_report(df1['real'], (df1['pred_all'] > 0.76).astype(int)))\n",
        "print(classification_report(df2['real'],(df2['pred_all'] > 0.49).astype(int)))"
      ],
      "metadata": {
        "colab": {
          "base_uri": "https://localhost:8080/"
        },
        "id": "Nkb-Zvv8ShtP",
        "outputId": "d22e1f32-d08f-4f82-9081-f7c5db586ee8"
      },
      "execution_count": null,
      "outputs": [
        {
          "output_type": "stream",
          "name": "stdout",
          "text": [
            "              precision    recall  f1-score   support\n",
            "\n",
            "           0       0.92      0.90      0.91      2359\n",
            "           1       0.37      0.43      0.40       337\n",
            "\n",
            "    accuracy                           0.84      2696\n",
            "   macro avg       0.65      0.66      0.65      2696\n",
            "weighted avg       0.85      0.84      0.84      2696\n",
            "\n",
            "              precision    recall  f1-score   support\n",
            "\n",
            "           0       0.92      0.88      0.90      2359\n",
            "           1       0.36      0.48      0.41       337\n",
            "\n",
            "    accuracy                           0.83      2696\n",
            "   macro avg       0.64      0.68      0.65      2696\n",
            "weighted avg       0.85      0.83      0.84      2696\n",
            "\n"
          ]
        }
      ]
    },
    {
      "cell_type": "code",
      "source": [
        "print(classification_report(df1['real'], df1['pred']))\n",
        "# print(classification_report(df2['real'],(df2['pred_all'] > 0.25).astype(int)))\n",
        "print(classification_report(df2['real'], df2['pred']))\n",
        "# lstm_treatment_depression 0.4\n",
        "# lstm_diagnosis_depression 0.5\n",
        "# lstm_treatment_anxiety 0.5\n",
        "# lstm_diagnosis_anxiety 0.25"
      ],
      "metadata": {
        "colab": {
          "base_uri": "https://localhost:8080/"
        },
        "id": "4DUAaA0qXbc9",
        "outputId": "2813e0c4-8ad4-4c49-9cb8-356ea603cecf"
      },
      "execution_count": null,
      "outputs": [
        {
          "output_type": "stream",
          "name": "stdout",
          "text": [
            "              precision    recall  f1-score   support\n",
            "\n",
            "           0       0.90      0.88      0.89      2177\n",
            "           1       0.27      0.32      0.29       311\n",
            "\n",
            "    accuracy                           0.81      2488\n",
            "   macro avg       0.59      0.60      0.59      2488\n",
            "weighted avg       0.82      0.81      0.81      2488\n",
            "\n",
            "              precision    recall  f1-score   support\n",
            "\n",
            "           0       0.95      0.86      0.90      2177\n",
            "           1       0.40      0.67      0.50       311\n",
            "\n",
            "    accuracy                           0.83      2488\n",
            "   macro avg       0.67      0.76      0.70      2488\n",
            "weighted avg       0.88      0.83      0.85      2488\n",
            "\n"
          ]
        }
      ]
    },
    {
      "cell_type": "code",
      "source": [
        "main_mcnemar(df1['pred'] == df1['real'], df2['pred']== df2['real'])"
      ],
      "metadata": {
        "colab": {
          "base_uri": "https://localhost:8080/"
        },
        "id": "XOX7ti1fYL6S",
        "outputId": "29e4ff03-9e2b-477b-afc4-cf9a04784b69"
      },
      "execution_count": null,
      "outputs": [
        {
          "output_type": "stream",
          "name": "stdout",
          "text": [
            "stat=21.307, p=0.0000039 p<0.001\n"
          ]
        }
      ]
    },
    {
      "cell_type": "code",
      "source": [
        "main_mcnemar((df1['pred_all'] > 0.40).astype(int) == df1['real'], df2['pred'] == df2['real'])"
      ],
      "metadata": {
        "colab": {
          "base_uri": "https://localhost:8080/"
        },
        "id": "Ychcp3ApnrCl",
        "outputId": "6739c56c-6f76-4b2c-c9c3-6ca7ac62e3e9"
      },
      "execution_count": null,
      "outputs": [
        {
          "output_type": "stream",
          "name": "stdout",
          "text": [
            "stat=2.232, p=0.1351663 not significant\n"
          ]
        }
      ]
    },
    {
      "cell_type": "code",
      "source": [
        "main_mcnemar((df1['pred'] == df1['real']).astype(int), (df2['pred']== df2['real']).astype(int))"
      ],
      "metadata": {
        "colab": {
          "base_uri": "https://localhost:8080/"
        },
        "id": "UcjrBamin_mP",
        "outputId": "3254e203-2f97-4e7e-d8d5-e4661c524a65"
      },
      "execution_count": null,
      "outputs": [
        {
          "output_type": "stream",
          "name": "stdout",
          "text": [
            "stat=1.289, p=0.2561796 not significant\n"
          ]
        }
      ]
    },
    {
      "cell_type": "code",
      "source": [
        "def compare_models(table, model):\n",
        "    result = mcnemar(table, exact=True)\n",
        "    # summarize the finding\n",
        "    print('\\n\\n', model)\n",
        "    # print('statistic=%.5f, p-value=%.5f' % (result.statistic, result.pvalue))\n",
        "    # # interpret the p-value\n",
        "    # alpha = 0.05\n",
        "    # if result.pvalue > alpha:\n",
        "    #     print('Same proportions of errors (fail to reject H0)')\n",
        "    # else:\n",
        "    #     print('Different proportions of errors (reject H0)')\n",
        "    print('stat=%.3f, p=%.7f' % (result.statistic, result.pvalue),end='')\n",
        "\n",
        "    significant = False\n",
        "    for alpha in [0.001, 0.01, 0.05]:\n",
        "        if result.pvalue < alpha:\n",
        "            print(' p<' + str(alpha))\n",
        "            significant = True\n",
        "            break\n",
        "    if not significant:\n",
        "        print(' not significant')\n"
      ],
      "metadata": {
        "id": "p7JQyOlpRlbN"
      },
      "execution_count": null,
      "outputs": []
    },
    {
      "cell_type": "code",
      "source": [
        "# def compare_models(table, model):\n",
        "#     result = mcnemar(table, exact=True)\n",
        "#     # summarize the finding\n",
        "#     print('\\n\\n', model)\n",
        "#     print('statistic=%.3f, p-value=%.3f' % (result.statistic, result.pvalue))\n",
        "#     # interpret the p-value\n",
        "#     alpha = 0.05\n",
        "#     if result.pvalue > alpha:\n",
        "#         print('Same proportions of errors (fail to reject H0)')\n",
        "#     else:\n",
        "#         print('Different proportions of errors (reject H0)')\n"
      ],
      "metadata": {
        "id": "Z--K3BEUnYIm"
      },
      "execution_count": null,
      "outputs": []
    },
    {
      "cell_type": "code",
      "source": [
        "def load_data(task, model):\n",
        "    # PATH_PRED_BERT = f\"/content/drive/MyDrive/doutorado/dados_v6/full/prediction/all_{task}.pkl\"\n",
        "    # df_BERT = pickle.load(open(PATH_PRED_BERT, 'rb'))\n",
        "    # print(df_lstm)\n",
        "    # PATH_PRED_RL = f\"/content/drive/MyDrive/doutorado/dados_v6/rl/{task}-rl-tfidf.pkl\"\n",
        "    # df_rl = pickle.load(open(PATH_PRED_RL, 'rb'))\n",
        "\n",
        "    # PATH_PRED_lstm = f\"/content/drive/MyDrive/doutorado/dados_v6/lstm/predictions/{task}-LSTM.pkl\"\n",
        "    # df_lstm = pickle.load(open(PATH_PRED_lstm, 'rb'))\n",
        "\n",
        "    # PATH_PRED_NMT = f\"/content/drive/MyDrive/doutorado/dados_v6/full/prediction/medical_terms_{task}.pkl\"\n",
        "    # df_nmt = pickle.load(open(PATH_PRED_NMT, 'rb'))\n",
        "\n",
        "    # return df_nmt\n",
        "    # print(classification_report(df_nmt['real'], df_nmt['pred']))\n",
        "\n",
        "    # PATH_PRED_BERT = f\"/content/drive/MyDrive/doutorado/dados_v6/full/prediction/all_{task}.pkl\"\n",
        "    # df_bert = pickle.load(open(PATH_PRED_BERT, 'rb'))\n",
        "\n",
        "    PATH_PRED_dev80 = f\"/content/drive/MyDrive/doutorado/dados_v6/dev80/prediction/A_lstm_balanced_False.pkl\"\n",
        "    df_80 = pickle.load(open(PATH_PRED_dev80, 'rb'))\n",
        "\n",
        "    PATH_PRED_dev80r = f\"/content/drive/MyDrive/doutorado/dados_v6/full/prediction/r80_anxiety.pkl\"\n",
        "    df_80r = pickle.load(open(PATH_PRED_dev80r, 'rb'))\n",
        "\n",
        "    # PATH_PRED_rafael = f\"/content/drive/MyDrive/doutorado/dados_v6/rafael/testing_anxiety.xlsx\"\n",
        "    # df_rafael = pd.read_excel(PATH_PRED_rafael)\n",
        "\n",
        "    # PATH_PRED_pos = f\"/content/drive/MyDrive/doutorado/dados_v6/pre_pos/prediction/D_pos.pkl\"\n",
        "    # df_pos = pickle.load(open(PATH_PRED_pos, 'rb'))\n",
        "\n",
        "    # PATH_PRED_pre = f\"/content/drive/MyDrive/doutorado/dados_v6/pre_pos/prediction/D_pre.pkl\"\n",
        "    # df_pre = pickle.load(open(PATH_PRED_pre, 'rb'))\n",
        "\n",
        "    print(classification_report(df_80['real'], df_80['pred']))\n",
        "    print(classification_report(df_80r['real'], df_80r['pred']))\n",
        "    table = pd.crosstab(df_80['pred'] == df_80['real'], df_80r['pred'] == df_80r['real'])\n",
        "    compare_models(table, model)\n",
        "    # return df_lstm, df_bert, table\n"
      ],
      "metadata": {
        "id": "ipPs44NBSwTh"
      },
      "execution_count": null,
      "outputs": []
    },
    {
      "cell_type": "code",
      "source": [
        "PATH_PRED_NMT = f\"/content/drive/MyDrive/doutorado/dados_v6/full/prediction/pref_medical_terms_depression.pkl\"\n",
        "df_nmt = pickle.load(open(PATH_PRED_NMT, 'rb'))"
      ],
      "metadata": {
        "id": "tz0xUqsiPeHA"
      },
      "execution_count": null,
      "outputs": []
    },
    {
      "cell_type": "code",
      "source": [
        "print(classification_report(df_nmt['real'], df_nmt['pred']))"
      ],
      "metadata": {
        "colab": {
          "base_uri": "https://localhost:8080/"
        },
        "id": "-BxQ-oSJPqIA",
        "outputId": "0920dc78-4706-4ea7-f720-7d555adf63ee"
      },
      "execution_count": null,
      "outputs": [
        {
          "output_type": "stream",
          "name": "stdout",
          "text": [
            "              precision    recall  f1-score   support\n",
            "\n",
            "           0       0.93      0.79      0.85      2359\n",
            "           1       0.28      0.58      0.38       337\n",
            "\n",
            "    accuracy                           0.76      2696\n",
            "   macro avg       0.60      0.68      0.61      2696\n",
            "weighted avg       0.85      0.76      0.79      2696\n",
            "\n"
          ]
        }
      ]
    },
    {
      "cell_type": "code",
      "source": [
        "# load_data('anxiety', 'BERT x LSTM: anxiety')\n",
        "load_data('anxiety', 'BERT x LSTM: anxiety')\n",
        "# load_data('anxiety', 'BERT x RL: anxiety')\n",
        "# load_data('depression', 'BERT x RL: depression')\n",
        "\n",
        "# load_data('anxiety', 'PRE x POS: anxiety')\n",
        "# load_data('anxiety', 'RL x BERT: anxiety')"
      ],
      "metadata": {
        "colab": {
          "base_uri": "https://localhost:8080/"
        },
        "id": "nrz2oynDTGDp",
        "outputId": "6c3cabef-5797-4721-a4ca-85cb44d4e70e"
      },
      "execution_count": null,
      "outputs": [
        {
          "output_type": "stream",
          "name": "stdout",
          "text": [
            "              precision    recall  f1-score   support\n",
            "\n",
            "           0       0.89      0.94      0.91      3108\n",
            "           1       0.29      0.18      0.22       444\n",
            "\n",
            "    accuracy                           0.84      3552\n",
            "   macro avg       0.59      0.56      0.57      3552\n",
            "weighted avg       0.81      0.84      0.83      3552\n",
            "\n",
            "              precision    recall  f1-score   support\n",
            "\n",
            "           0       0.90      0.84      0.87      3108\n",
            "           1       0.23      0.33      0.27       444\n",
            "\n",
            "    accuracy                           0.78      3552\n",
            "   macro avg       0.57      0.59      0.57      3552\n",
            "weighted avg       0.81      0.78      0.80      3552\n",
            "\n",
            "\n",
            "\n",
            " BERT x LSTM: anxiety\n",
            "stat=205.000, p=0.0000000 p<0.001\n"
          ]
        }
      ]
    },
    {
      "cell_type": "code",
      "source": [
        "df_nmt"
      ],
      "metadata": {
        "colab": {
          "base_uri": "https://localhost:8080/",
          "height": 424
        },
        "id": "8Ow4IaLAJ9hf",
        "outputId": "1a48d3cc-95c9-4a7b-e62c-2beeb5a34a42"
      },
      "execution_count": null,
      "outputs": [
        {
          "output_type": "execute_result",
          "data": {
            "text/plain": [
              "      pred  real\n",
              "0        0     0\n",
              "1        0     0\n",
              "2        0     0\n",
              "3        0     0\n",
              "4        1     0\n",
              "...    ...   ...\n",
              "3547     0     1\n",
              "3548     1     1\n",
              "3549     1     1\n",
              "3550     0     1\n",
              "3551     0     1\n",
              "\n",
              "[3552 rows x 2 columns]"
            ],
            "text/html": [
              "\n",
              "  <div id=\"df-709a78b8-5a9a-44a8-b4a5-8663bff2e9bf\">\n",
              "    <div class=\"colab-df-container\">\n",
              "      <div>\n",
              "<style scoped>\n",
              "    .dataframe tbody tr th:only-of-type {\n",
              "        vertical-align: middle;\n",
              "    }\n",
              "\n",
              "    .dataframe tbody tr th {\n",
              "        vertical-align: top;\n",
              "    }\n",
              "\n",
              "    .dataframe thead th {\n",
              "        text-align: right;\n",
              "    }\n",
              "</style>\n",
              "<table border=\"1\" class=\"dataframe\">\n",
              "  <thead>\n",
              "    <tr style=\"text-align: right;\">\n",
              "      <th></th>\n",
              "      <th>pred</th>\n",
              "      <th>real</th>\n",
              "    </tr>\n",
              "  </thead>\n",
              "  <tbody>\n",
              "    <tr>\n",
              "      <th>0</th>\n",
              "      <td>0</td>\n",
              "      <td>0</td>\n",
              "    </tr>\n",
              "    <tr>\n",
              "      <th>1</th>\n",
              "      <td>0</td>\n",
              "      <td>0</td>\n",
              "    </tr>\n",
              "    <tr>\n",
              "      <th>2</th>\n",
              "      <td>0</td>\n",
              "      <td>0</td>\n",
              "    </tr>\n",
              "    <tr>\n",
              "      <th>3</th>\n",
              "      <td>0</td>\n",
              "      <td>0</td>\n",
              "    </tr>\n",
              "    <tr>\n",
              "      <th>4</th>\n",
              "      <td>1</td>\n",
              "      <td>0</td>\n",
              "    </tr>\n",
              "    <tr>\n",
              "      <th>...</th>\n",
              "      <td>...</td>\n",
              "      <td>...</td>\n",
              "    </tr>\n",
              "    <tr>\n",
              "      <th>3547</th>\n",
              "      <td>0</td>\n",
              "      <td>1</td>\n",
              "    </tr>\n",
              "    <tr>\n",
              "      <th>3548</th>\n",
              "      <td>1</td>\n",
              "      <td>1</td>\n",
              "    </tr>\n",
              "    <tr>\n",
              "      <th>3549</th>\n",
              "      <td>1</td>\n",
              "      <td>1</td>\n",
              "    </tr>\n",
              "    <tr>\n",
              "      <th>3550</th>\n",
              "      <td>0</td>\n",
              "      <td>1</td>\n",
              "    </tr>\n",
              "    <tr>\n",
              "      <th>3551</th>\n",
              "      <td>0</td>\n",
              "      <td>1</td>\n",
              "    </tr>\n",
              "  </tbody>\n",
              "</table>\n",
              "<p>3552 rows × 2 columns</p>\n",
              "</div>\n",
              "      <button class=\"colab-df-convert\" onclick=\"convertToInteractive('df-709a78b8-5a9a-44a8-b4a5-8663bff2e9bf')\"\n",
              "              title=\"Convert this dataframe to an interactive table.\"\n",
              "              style=\"display:none;\">\n",
              "        \n",
              "  <svg xmlns=\"http://www.w3.org/2000/svg\" height=\"24px\"viewBox=\"0 0 24 24\"\n",
              "       width=\"24px\">\n",
              "    <path d=\"M0 0h24v24H0V0z\" fill=\"none\"/>\n",
              "    <path d=\"M18.56 5.44l.94 2.06.94-2.06 2.06-.94-2.06-.94-.94-2.06-.94 2.06-2.06.94zm-11 1L8.5 8.5l.94-2.06 2.06-.94-2.06-.94L8.5 2.5l-.94 2.06-2.06.94zm10 10l.94 2.06.94-2.06 2.06-.94-2.06-.94-.94-2.06-.94 2.06-2.06.94z\"/><path d=\"M17.41 7.96l-1.37-1.37c-.4-.4-.92-.59-1.43-.59-.52 0-1.04.2-1.43.59L10.3 9.45l-7.72 7.72c-.78.78-.78 2.05 0 2.83L4 21.41c.39.39.9.59 1.41.59.51 0 1.02-.2 1.41-.59l7.78-7.78 2.81-2.81c.8-.78.8-2.07 0-2.86zM5.41 20L4 18.59l7.72-7.72 1.47 1.35L5.41 20z\"/>\n",
              "  </svg>\n",
              "      </button>\n",
              "      \n",
              "  <style>\n",
              "    .colab-df-container {\n",
              "      display:flex;\n",
              "      flex-wrap:wrap;\n",
              "      gap: 12px;\n",
              "    }\n",
              "\n",
              "    .colab-df-convert {\n",
              "      background-color: #E8F0FE;\n",
              "      border: none;\n",
              "      border-radius: 50%;\n",
              "      cursor: pointer;\n",
              "      display: none;\n",
              "      fill: #1967D2;\n",
              "      height: 32px;\n",
              "      padding: 0 0 0 0;\n",
              "      width: 32px;\n",
              "    }\n",
              "\n",
              "    .colab-df-convert:hover {\n",
              "      background-color: #E2EBFA;\n",
              "      box-shadow: 0px 1px 2px rgba(60, 64, 67, 0.3), 0px 1px 3px 1px rgba(60, 64, 67, 0.15);\n",
              "      fill: #174EA6;\n",
              "    }\n",
              "\n",
              "    [theme=dark] .colab-df-convert {\n",
              "      background-color: #3B4455;\n",
              "      fill: #D2E3FC;\n",
              "    }\n",
              "\n",
              "    [theme=dark] .colab-df-convert:hover {\n",
              "      background-color: #434B5C;\n",
              "      box-shadow: 0px 1px 3px 1px rgba(0, 0, 0, 0.15);\n",
              "      filter: drop-shadow(0px 1px 2px rgba(0, 0, 0, 0.3));\n",
              "      fill: #FFFFFF;\n",
              "    }\n",
              "  </style>\n",
              "\n",
              "      <script>\n",
              "        const buttonEl =\n",
              "          document.querySelector('#df-709a78b8-5a9a-44a8-b4a5-8663bff2e9bf button.colab-df-convert');\n",
              "        buttonEl.style.display =\n",
              "          google.colab.kernel.accessAllowed ? 'block' : 'none';\n",
              "\n",
              "        async function convertToInteractive(key) {\n",
              "          const element = document.querySelector('#df-709a78b8-5a9a-44a8-b4a5-8663bff2e9bf');\n",
              "          const dataTable =\n",
              "            await google.colab.kernel.invokeFunction('convertToInteractive',\n",
              "                                                     [key], {});\n",
              "          if (!dataTable) return;\n",
              "\n",
              "          const docLinkHtml = 'Like what you see? Visit the ' +\n",
              "            '<a target=\"_blank\" href=https://colab.research.google.com/notebooks/data_table.ipynb>data table notebook</a>'\n",
              "            + ' to learn more about interactive tables.';\n",
              "          element.innerHTML = '';\n",
              "          dataTable['output_type'] = 'display_data';\n",
              "          await google.colab.output.renderOutput(dataTable, element);\n",
              "          const docLink = document.createElement('div');\n",
              "          docLink.innerHTML = docLinkHtml;\n",
              "          element.appendChild(docLink);\n",
              "        }\n",
              "      </script>\n",
              "    </div>\n",
              "  </div>\n",
              "  "
            ]
          },
          "metadata": {},
          "execution_count": 11
        }
      ]
    },
    {
      "cell_type": "code",
      "source": [
        "table"
      ],
      "metadata": {
        "colab": {
          "base_uri": "https://localhost:8080/",
          "height": 143
        },
        "id": "JVLSihuoTIsH",
        "outputId": "16aa22ce-a8ac-4060-c9f8-5ea1190b4ca7"
      },
      "execution_count": null,
      "outputs": [
        {
          "output_type": "execute_result",
          "data": {
            "text/plain": [
              "col_0  False  True\n",
              "row_0             \n",
              "False    184   824\n",
              "True     480  2064"
            ],
            "text/html": [
              "\n",
              "  <div id=\"df-632f3dc9-e7f1-4aa8-8aa9-10665dc97f88\">\n",
              "    <div class=\"colab-df-container\">\n",
              "      <div>\n",
              "<style scoped>\n",
              "    .dataframe tbody tr th:only-of-type {\n",
              "        vertical-align: middle;\n",
              "    }\n",
              "\n",
              "    .dataframe tbody tr th {\n",
              "        vertical-align: top;\n",
              "    }\n",
              "\n",
              "    .dataframe thead th {\n",
              "        text-align: right;\n",
              "    }\n",
              "</style>\n",
              "<table border=\"1\" class=\"dataframe\">\n",
              "  <thead>\n",
              "    <tr style=\"text-align: right;\">\n",
              "      <th>col_0</th>\n",
              "      <th>False</th>\n",
              "      <th>True</th>\n",
              "    </tr>\n",
              "    <tr>\n",
              "      <th>row_0</th>\n",
              "      <th></th>\n",
              "      <th></th>\n",
              "    </tr>\n",
              "  </thead>\n",
              "  <tbody>\n",
              "    <tr>\n",
              "      <th>False</th>\n",
              "      <td>184</td>\n",
              "      <td>824</td>\n",
              "    </tr>\n",
              "    <tr>\n",
              "      <th>True</th>\n",
              "      <td>480</td>\n",
              "      <td>2064</td>\n",
              "    </tr>\n",
              "  </tbody>\n",
              "</table>\n",
              "</div>\n",
              "      <button class=\"colab-df-convert\" onclick=\"convertToInteractive('df-632f3dc9-e7f1-4aa8-8aa9-10665dc97f88')\"\n",
              "              title=\"Convert this dataframe to an interactive table.\"\n",
              "              style=\"display:none;\">\n",
              "        \n",
              "  <svg xmlns=\"http://www.w3.org/2000/svg\" height=\"24px\"viewBox=\"0 0 24 24\"\n",
              "       width=\"24px\">\n",
              "    <path d=\"M0 0h24v24H0V0z\" fill=\"none\"/>\n",
              "    <path d=\"M18.56 5.44l.94 2.06.94-2.06 2.06-.94-2.06-.94-.94-2.06-.94 2.06-2.06.94zm-11 1L8.5 8.5l.94-2.06 2.06-.94-2.06-.94L8.5 2.5l-.94 2.06-2.06.94zm10 10l.94 2.06.94-2.06 2.06-.94-2.06-.94-.94-2.06-.94 2.06-2.06.94z\"/><path d=\"M17.41 7.96l-1.37-1.37c-.4-.4-.92-.59-1.43-.59-.52 0-1.04.2-1.43.59L10.3 9.45l-7.72 7.72c-.78.78-.78 2.05 0 2.83L4 21.41c.39.39.9.59 1.41.59.51 0 1.02-.2 1.41-.59l7.78-7.78 2.81-2.81c.8-.78.8-2.07 0-2.86zM5.41 20L4 18.59l7.72-7.72 1.47 1.35L5.41 20z\"/>\n",
              "  </svg>\n",
              "      </button>\n",
              "      \n",
              "  <style>\n",
              "    .colab-df-container {\n",
              "      display:flex;\n",
              "      flex-wrap:wrap;\n",
              "      gap: 12px;\n",
              "    }\n",
              "\n",
              "    .colab-df-convert {\n",
              "      background-color: #E8F0FE;\n",
              "      border: none;\n",
              "      border-radius: 50%;\n",
              "      cursor: pointer;\n",
              "      display: none;\n",
              "      fill: #1967D2;\n",
              "      height: 32px;\n",
              "      padding: 0 0 0 0;\n",
              "      width: 32px;\n",
              "    }\n",
              "\n",
              "    .colab-df-convert:hover {\n",
              "      background-color: #E2EBFA;\n",
              "      box-shadow: 0px 1px 2px rgba(60, 64, 67, 0.3), 0px 1px 3px 1px rgba(60, 64, 67, 0.15);\n",
              "      fill: #174EA6;\n",
              "    }\n",
              "\n",
              "    [theme=dark] .colab-df-convert {\n",
              "      background-color: #3B4455;\n",
              "      fill: #D2E3FC;\n",
              "    }\n",
              "\n",
              "    [theme=dark] .colab-df-convert:hover {\n",
              "      background-color: #434B5C;\n",
              "      box-shadow: 0px 1px 3px 1px rgba(0, 0, 0, 0.15);\n",
              "      filter: drop-shadow(0px 1px 2px rgba(0, 0, 0, 0.3));\n",
              "      fill: #FFFFFF;\n",
              "    }\n",
              "  </style>\n",
              "\n",
              "      <script>\n",
              "        const buttonEl =\n",
              "          document.querySelector('#df-632f3dc9-e7f1-4aa8-8aa9-10665dc97f88 button.colab-df-convert');\n",
              "        buttonEl.style.display =\n",
              "          google.colab.kernel.accessAllowed ? 'block' : 'none';\n",
              "\n",
              "        async function convertToInteractive(key) {\n",
              "          const element = document.querySelector('#df-632f3dc9-e7f1-4aa8-8aa9-10665dc97f88');\n",
              "          const dataTable =\n",
              "            await google.colab.kernel.invokeFunction('convertToInteractive',\n",
              "                                                     [key], {});\n",
              "          if (!dataTable) return;\n",
              "\n",
              "          const docLinkHtml = 'Like what you see? Visit the ' +\n",
              "            '<a target=\"_blank\" href=https://colab.research.google.com/notebooks/data_table.ipynb>data table notebook</a>'\n",
              "            + ' to learn more about interactive tables.';\n",
              "          element.innerHTML = '';\n",
              "          dataTable['output_type'] = 'display_data';\n",
              "          await google.colab.output.renderOutput(dataTable, element);\n",
              "          const docLink = document.createElement('div');\n",
              "          docLink.innerHTML = docLinkHtml;\n",
              "          element.appendChild(docLink);\n",
              "        }\n",
              "      </script>\n",
              "    </div>\n",
              "  </div>\n",
              "  "
            ]
          },
          "metadata": {},
          "execution_count": 21
        }
      ]
    },
    {
      "cell_type": "code",
      "source": [
        "df_bert"
      ],
      "metadata": {
        "colab": {
          "base_uri": "https://localhost:8080/",
          "height": 424
        },
        "id": "TucUvpgsm8LP",
        "outputId": "f4ba83c7-72ab-4251-d020-a6fde468b0e3"
      },
      "execution_count": null,
      "outputs": [
        {
          "output_type": "execute_result",
          "data": {
            "text/plain": [
              "      pred  real\n",
              "0        0     0\n",
              "1        0     0\n",
              "2        0     0\n",
              "3        0     0\n",
              "4        0     0\n",
              "...    ...   ...\n",
              "3547     0     1\n",
              "3548     1     1\n",
              "3549     1     1\n",
              "3550     0     1\n",
              "3551     0     1\n",
              "\n",
              "[3552 rows x 2 columns]"
            ],
            "text/html": [
              "\n",
              "  <div id=\"df-18f4b264-3266-462c-b840-d133d027dd9a\">\n",
              "    <div class=\"colab-df-container\">\n",
              "      <div>\n",
              "<style scoped>\n",
              "    .dataframe tbody tr th:only-of-type {\n",
              "        vertical-align: middle;\n",
              "    }\n",
              "\n",
              "    .dataframe tbody tr th {\n",
              "        vertical-align: top;\n",
              "    }\n",
              "\n",
              "    .dataframe thead th {\n",
              "        text-align: right;\n",
              "    }\n",
              "</style>\n",
              "<table border=\"1\" class=\"dataframe\">\n",
              "  <thead>\n",
              "    <tr style=\"text-align: right;\">\n",
              "      <th></th>\n",
              "      <th>pred</th>\n",
              "      <th>real</th>\n",
              "    </tr>\n",
              "  </thead>\n",
              "  <tbody>\n",
              "    <tr>\n",
              "      <th>0</th>\n",
              "      <td>0</td>\n",
              "      <td>0</td>\n",
              "    </tr>\n",
              "    <tr>\n",
              "      <th>1</th>\n",
              "      <td>0</td>\n",
              "      <td>0</td>\n",
              "    </tr>\n",
              "    <tr>\n",
              "      <th>2</th>\n",
              "      <td>0</td>\n",
              "      <td>0</td>\n",
              "    </tr>\n",
              "    <tr>\n",
              "      <th>3</th>\n",
              "      <td>0</td>\n",
              "      <td>0</td>\n",
              "    </tr>\n",
              "    <tr>\n",
              "      <th>4</th>\n",
              "      <td>0</td>\n",
              "      <td>0</td>\n",
              "    </tr>\n",
              "    <tr>\n",
              "      <th>...</th>\n",
              "      <td>...</td>\n",
              "      <td>...</td>\n",
              "    </tr>\n",
              "    <tr>\n",
              "      <th>3547</th>\n",
              "      <td>0</td>\n",
              "      <td>1</td>\n",
              "    </tr>\n",
              "    <tr>\n",
              "      <th>3548</th>\n",
              "      <td>1</td>\n",
              "      <td>1</td>\n",
              "    </tr>\n",
              "    <tr>\n",
              "      <th>3549</th>\n",
              "      <td>1</td>\n",
              "      <td>1</td>\n",
              "    </tr>\n",
              "    <tr>\n",
              "      <th>3550</th>\n",
              "      <td>0</td>\n",
              "      <td>1</td>\n",
              "    </tr>\n",
              "    <tr>\n",
              "      <th>3551</th>\n",
              "      <td>0</td>\n",
              "      <td>1</td>\n",
              "    </tr>\n",
              "  </tbody>\n",
              "</table>\n",
              "<p>3552 rows × 2 columns</p>\n",
              "</div>\n",
              "      <button class=\"colab-df-convert\" onclick=\"convertToInteractive('df-18f4b264-3266-462c-b840-d133d027dd9a')\"\n",
              "              title=\"Convert this dataframe to an interactive table.\"\n",
              "              style=\"display:none;\">\n",
              "        \n",
              "  <svg xmlns=\"http://www.w3.org/2000/svg\" height=\"24px\"viewBox=\"0 0 24 24\"\n",
              "       width=\"24px\">\n",
              "    <path d=\"M0 0h24v24H0V0z\" fill=\"none\"/>\n",
              "    <path d=\"M18.56 5.44l.94 2.06.94-2.06 2.06-.94-2.06-.94-.94-2.06-.94 2.06-2.06.94zm-11 1L8.5 8.5l.94-2.06 2.06-.94-2.06-.94L8.5 2.5l-.94 2.06-2.06.94zm10 10l.94 2.06.94-2.06 2.06-.94-2.06-.94-.94-2.06-.94 2.06-2.06.94z\"/><path d=\"M17.41 7.96l-1.37-1.37c-.4-.4-.92-.59-1.43-.59-.52 0-1.04.2-1.43.59L10.3 9.45l-7.72 7.72c-.78.78-.78 2.05 0 2.83L4 21.41c.39.39.9.59 1.41.59.51 0 1.02-.2 1.41-.59l7.78-7.78 2.81-2.81c.8-.78.8-2.07 0-2.86zM5.41 20L4 18.59l7.72-7.72 1.47 1.35L5.41 20z\"/>\n",
              "  </svg>\n",
              "      </button>\n",
              "      \n",
              "  <style>\n",
              "    .colab-df-container {\n",
              "      display:flex;\n",
              "      flex-wrap:wrap;\n",
              "      gap: 12px;\n",
              "    }\n",
              "\n",
              "    .colab-df-convert {\n",
              "      background-color: #E8F0FE;\n",
              "      border: none;\n",
              "      border-radius: 50%;\n",
              "      cursor: pointer;\n",
              "      display: none;\n",
              "      fill: #1967D2;\n",
              "      height: 32px;\n",
              "      padding: 0 0 0 0;\n",
              "      width: 32px;\n",
              "    }\n",
              "\n",
              "    .colab-df-convert:hover {\n",
              "      background-color: #E2EBFA;\n",
              "      box-shadow: 0px 1px 2px rgba(60, 64, 67, 0.3), 0px 1px 3px 1px rgba(60, 64, 67, 0.15);\n",
              "      fill: #174EA6;\n",
              "    }\n",
              "\n",
              "    [theme=dark] .colab-df-convert {\n",
              "      background-color: #3B4455;\n",
              "      fill: #D2E3FC;\n",
              "    }\n",
              "\n",
              "    [theme=dark] .colab-df-convert:hover {\n",
              "      background-color: #434B5C;\n",
              "      box-shadow: 0px 1px 3px 1px rgba(0, 0, 0, 0.15);\n",
              "      filter: drop-shadow(0px 1px 2px rgba(0, 0, 0, 0.3));\n",
              "      fill: #FFFFFF;\n",
              "    }\n",
              "  </style>\n",
              "\n",
              "      <script>\n",
              "        const buttonEl =\n",
              "          document.querySelector('#df-18f4b264-3266-462c-b840-d133d027dd9a button.colab-df-convert');\n",
              "        buttonEl.style.display =\n",
              "          google.colab.kernel.accessAllowed ? 'block' : 'none';\n",
              "\n",
              "        async function convertToInteractive(key) {\n",
              "          const element = document.querySelector('#df-18f4b264-3266-462c-b840-d133d027dd9a');\n",
              "          const dataTable =\n",
              "            await google.colab.kernel.invokeFunction('convertToInteractive',\n",
              "                                                     [key], {});\n",
              "          if (!dataTable) return;\n",
              "\n",
              "          const docLinkHtml = 'Like what you see? Visit the ' +\n",
              "            '<a target=\"_blank\" href=https://colab.research.google.com/notebooks/data_table.ipynb>data table notebook</a>'\n",
              "            + ' to learn more about interactive tables.';\n",
              "          element.innerHTML = '';\n",
              "          dataTable['output_type'] = 'display_data';\n",
              "          await google.colab.output.renderOutput(dataTable, element);\n",
              "          const docLink = document.createElement('div');\n",
              "          docLink.innerHTML = docLinkHtml;\n",
              "          element.appendChild(docLink);\n",
              "        }\n",
              "      </script>\n",
              "    </div>\n",
              "  </div>\n",
              "  "
            ]
          },
          "metadata": {},
          "execution_count": 18
        }
      ]
    }
  ]
}